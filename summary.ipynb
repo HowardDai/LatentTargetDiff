{
 "cells": [
  {
   "cell_type": "code",
   "execution_count": 1,
   "id": "241796f5",
   "metadata": {},
   "outputs": [
    {
     "name": "stderr",
     "output_type": "stream",
     "text": [
      "/home/cpsc483_hcd22/.conda/envs/targetdiff2/lib/python3.8/site-packages/tqdm/auto.py:21: TqdmWarning: IProgress not found. Please update jupyter and ipywidgets. See https://ipywidgets.readthedocs.io/en/stable/user_install.html\n",
      "  from .autonotebook import tqdm as notebook_tqdm\n"
     ]
    }
   ],
   "source": [
    "#NOTE: Only tested on a portion of the samples compared to other baselines, results may be skewed\n",
    "import copy\n",
    "import collections\n",
    "import os\n",
    "import pickle\n",
    "\n",
    "import matplotlib.pyplot as plt\n",
    "import numpy as np\n",
    "import pandas as pd\n",
    "import py3Dmol\n",
    "from rdkit import Chem\n",
    "from rdkit.Chem import AllChem\n",
    "from rdkit.Chem import rdMolAlign\n",
    "from rdkit.Chem import PeriodicTable\n",
    "from rdkit.Chem.Lipinski import RotatableBondSmarts\n",
    "import scipy\n",
    "from scipy import spatial as sci_spatial\n",
    "import torch\n",
    "from tqdm.auto import tqdm\n",
    "import seaborn as sns\n",
    "\n",
    "ptable = Chem.GetPeriodicTable()"
   ]
  },
  {
   "cell_type": "code",
   "execution_count": 2,
   "id": "fe7bae18",
   "metadata": {},
   "outputs": [],
   "source": [
    "from rdkit import RDLogger\n",
    "RDLogger.DisableLog('rdApp.*')  "
   ]
  },
  {
   "cell_type": "code",
   "execution_count": 5,
   "id": "33fd17ab",
   "metadata": {},
   "outputs": [],
   "source": [
    "import sys, os\n",
    "sys.path.insert(0, os.path.abspath('../'))\n",
    "\n",
    "# os.chdir(\"YOURPATH\")\n",
    "from utils.evaluation import eval_bond_length, scoring_func, similarity"
   ]
  },
  {
   "cell_type": "code",
   "execution_count": null,
   "id": "b75816ca-e15b-4f00-939c-79a3dc0c510b",
   "metadata": {},
   "outputs": [],
   "source": []
  },
  {
   "cell_type": "code",
   "execution_count": 6,
   "id": "09665f85",
   "metadata": {},
   "outputs": [],
   "source": [
    "MODEL_NAME = 'LatentTargetDiff'"
   ]
  },
  {
   "cell_type": "markdown",
   "id": "ee6b9e57",
   "metadata": {},
   "source": [
    "# Load Data"
   ]
  },
  {
   "cell_type": "code",
   "execution_count": 123,
   "id": "8f583ed1",
   "metadata": {},
   "outputs": [],
   "source": [
    "class Globals:\n",
    "    reference_path = 'sampling_results/crossdocked_test_vina_docked.pt'\n",
    "    pocket2mol_path = 'sampling_results/pocket2mol_vina_docked.pt'\n",
    "    ar_path = 'sampling_results/ar_vina_docked.pt'\n",
    "    targetdiff_path = 'sampling_results/targetdiff_vina_docked.pt'\n",
    "    our_path = 'sampling_results/LatentTargetDiff.pt'\n"
   ]
  },
  {
   "cell_type": "code",
   "execution_count": 124,
   "id": "23666e61",
   "metadata": {},
   "outputs": [],
   "source": [
    "Globals.reference_results = torch.load(Globals.reference_path)\n",
    "Globals.reference_results = [[v] for v in Globals.reference_results]\n",
    "Globals.ar_results = torch.load(Globals.ar_path)\n",
    "Globals.targetdiff_results = torch.load(Globals.targetdiff_path)\n",
    "Globals.pocket2mol_results = torch.load(Globals.pocket2mol_path)\n",
    "Globals.our_results_2 = torch.load(Globals.our_path)"
   ]
  },
  {
   "cell_type": "code",
   "execution_count": 125,
   "id": "00fbd311-02b8-4884-a270-bd6cafd0de67",
   "metadata": {},
   "outputs": [],
   "source": [
    "Globals.our_results = [0]*100\n",
    "for i in range(0, 100):\n",
    "    Globals.our_results[i] = Globals.our_results_2['all_results']\n",
    "\n"
   ]
  },
  {
   "cell_type": "code",
   "execution_count": null,
   "id": "8a223437-ab3d-48e3-85e6-5528987f3f1d",
   "metadata": {},
   "outputs": [],
   "source": []
  },
  {
   "cell_type": "code",
   "execution_count": 126,
   "id": "a2748c76-6676-4273-9ae5-a3c60874941a",
   "metadata": {},
   "outputs": [],
   "source": [
    "# print(len(Globals.our_results[0]))\n",
    "# print(Globals.pocket2mol_results[0][0].keys())\n",
    "#NOTE: output results file is not the same format as the given baselines in the targetdiff repo, have to adjust a little bit"
   ]
  },
  {
   "cell_type": "markdown",
   "id": "52e29805-a409-46a1-b385-66b0ad293b1d",
   "metadata": {},
   "source": [
    "# Metrics Summary"
   ]
  },
  {
   "cell_type": "code",
   "execution_count": 127,
   "id": "2684d5c5-73b7-4c6e-ba5c-7abd42eade71",
   "metadata": {},
   "outputs": [],
   "source": [
    "def print_results(results, show_vina=True):\n",
    "    qed = [r['chem_results']['qed'] for r in results]\n",
    "    sa = [r['chem_results']['sa'] for r in results]\n",
    "    mol_size = [r['mol'].GetNumAtoms() for r in results]\n",
    "    print('Num results: %d' % len(results))\n",
    "    if show_vina:\n",
    "        vina_score_only = [x['vina']['score_only'][0]['affinity'] for x in results]\n",
    "        vina_min = [x['vina']['minimize'][0]['affinity'] for x in results]\n",
    "        vina_dock = [r['vina']['dock'][0]['affinity'] for r in results]\n",
    "        print('[Vina Score] Avg: %.2f | Std: %.2f' % (np.mean(vina_score_only), np.std(vina_score_only)))\n",
    "        print('[Vina Min]   Avg: %.2f | Std: %.2f' % (np.mean(vina_min), np.std(vina_min)))\n",
    "        print('[Vina Dock]  Avg: %.4f | Std: %.4f' % (np.mean(vina_dock), np.std(vina_dock)))\n",
    "        \n",
    "    print('[QED]  Avg: %.4f | Std: %.4f' % (np.mean(qed), np.std(qed)))\n",
    "    print('[SA]   Avg: %.4f | Std: %.4f' % (np.mean(sa), np.std(sa)))\n",
    "    print('[Size] Avg: %.4f | Std: %.4f' % (np.mean(mol_size), np.std(mol_size)))\n",
    "\n",
    "def compute_high_affinity(vina_ref, results):\n",
    "    percentage_good = []\n",
    "    num_docked = []\n",
    "    qed_good, sa_good = [], []\n",
    "    for i in range(100):\n",
    "        score_ref = vina_ref[i]\n",
    "        pocket_results = [r for r in results[i] if r['vina'] is not None]\n",
    "        if len(pocket_results) < 50:\n",
    "            continue\n",
    "        num_docked.append(len(pocket_results))\n",
    "\n",
    "        scores_gen = []\n",
    "        for docked in pocket_results:\n",
    "            aff = docked['vina']['dock'][0]['affinity']\n",
    "            scores_gen.append(aff)\n",
    "            if aff <= score_ref:\n",
    "                qed_good.append(docked['chem_results']['qed'])\n",
    "                sa_good.append(docked['chem_results']['sa'])\n",
    "        scores_gen = np.array(scores_gen)\n",
    "        percentage_good.append((scores_gen <= score_ref).mean())\n",
    "\n",
    "    percentage_good = np.array(percentage_good)\n",
    "    num_docked = np.array(num_docked)\n",
    "\n",
    "    print('[HF%%]  Avg: %.2f%% | Std: %.2f%% ' % (np.mean(percentage_good)*100, np.std(percentage_good)*100))\n",
    "    print('[HF-QED]  Avg: %.4f | Std: %.4f ' % (np.mean(qed_good)*100, np.std(qed_good)*100))\n",
    "    print('[HF-SA]   Avg: %.4f | Std: %.4f ' % (np.mean(sa_good)*100, np.std(sa_good)*100))\n",
    "    print('[Success%%] %.2f%% ' % (np.mean(percentage_good > 0)*100, ))"
   ]
  },
  {
   "cell_type": "markdown",
   "id": "79832e56-d7c0-491e-a0a8-ffd26835e977",
   "metadata": {},
   "source": [
    "## Reference"
   ]
  },
  {
   "cell_type": "code",
   "execution_count": 128,
   "id": "71d33554-079d-4065-ab5c-d4216e27d669",
   "metadata": {},
   "outputs": [
    {
     "name": "stdout",
     "output_type": "stream",
     "text": [
      "Num results: 100\n",
      "[Vina Score] Avg: -6.36 | Std: 3.14\n",
      "[Vina Min]   Avg: -6.71 | Std: 2.50\n",
      "[Vina Dock]  Avg: -7.4501 | Std: 2.3261\n",
      "[QED]  Avg: 0.4760 | Std: 0.2050\n",
      "[SA]   Avg: 0.7277 | Std: 0.1386\n",
      "[Size] Avg: 22.7500 | Std: 9.9080\n"
     ]
    }
   ],
   "source": [
    "flat_ref_docked = [r for pr in Globals.reference_results for r in pr]\n",
    "print_results(flat_ref_docked)"
   ]
  },
  {
   "cell_type": "code",
   "execution_count": 129,
   "id": "35e18e63-b7d1-4e0e-8873-ced252c07a44",
   "metadata": {},
   "outputs": [],
   "source": [
    "vina_ref = [r['vina']['dock'][0]['affinity'] for r in flat_ref_docked]"
   ]
  },
  {
   "cell_type": "markdown",
   "id": "5760f4c2-28f7-4d13-816e-fc08a1ec6fcd",
   "metadata": {},
   "source": [
    "## AR"
   ]
  },
  {
   "cell_type": "code",
   "execution_count": 130,
   "id": "66bd61a1-e771-4c6e-89b4-c806e0b9ae17",
   "metadata": {},
   "outputs": [
    {
     "name": "stdout",
     "output_type": "stream",
     "text": [
      "Num results: 9295\n",
      "[Vina Score] Avg: -5.75 | Std: 3.25\n",
      "[Vina Min]   Avg: -6.18 | Std: 2.42\n",
      "[Vina Dock]  Avg: -6.7459 | Std: 4.0165\n",
      "[QED]  Avg: 0.5089 | Std: 0.1767\n",
      "[SA]   Avg: 0.6366 | Std: 0.1479\n",
      "[Size] Avg: 17.6815 | Std: 7.8762\n",
      "[HF%]  Avg: 37.94% | Std: 31.72% \n",
      "[HF-QED]  Avg: 52.1360 | Std: 18.5504 \n",
      "[HF-SA]   Avg: 59.7250 | Std: 14.9267 \n",
      "[Success%] 91.58% \n"
     ]
    }
   ],
   "source": [
    "flat_ar_docked = [r for pr in Globals.ar_results for r in pr]\n",
    "print_results(flat_ar_docked)\n",
    "compute_high_affinity(vina_ref, Globals.ar_results)"
   ]
  },
  {
   "cell_type": "markdown",
   "id": "42175940-2316-4e4e-91b5-6f808f0992ac",
   "metadata": {},
   "source": [
    "## Pocket2Mol"
   ]
  },
  {
   "cell_type": "code",
   "execution_count": 132,
   "id": "ffd219af-9d4a-4a40-9b77-e05d5baa1d69",
   "metadata": {},
   "outputs": [
    {
     "name": "stdout",
     "output_type": "stream",
     "text": [
      "Num results: 9831\n",
      "[Vina Score] Avg: -5.14 | Std: 3.17\n",
      "[Vina Min]   Avg: -6.42 | Std: 2.93\n",
      "[Vina Dock]  Avg: -7.1515 | Std: 4.8975\n",
      "[QED]  Avg: 0.5729 | Std: 0.1540\n",
      "[SA]   Avg: 0.7558 | Std: 0.1240\n",
      "[Size] Avg: 17.7363 | Std: 9.0242\n",
      "[HF%]  Avg: 48.36% | Std: 32.17% \n",
      "[HF-QED]  Avg: 56.5935 | Std: 16.8338 \n",
      "[HF-SA]   Avg: 72.3812 | Std: 12.5769 \n",
      "[Success%] 88.78% \n"
     ]
    }
   ],
   "source": [
    "flat_pocket2mol_docked = [r for pr in Globals.pocket2mol_results for r in pr]\n",
    "print_results(flat_pocket2mol_docked)\n",
    "compute_high_affinity(vina_ref, Globals.pocket2mol_results)"
   ]
  },
  {
   "cell_type": "markdown",
   "id": "7d13e3d8-38c5-4a9a-8fd4-a3231e21058a",
   "metadata": {},
   "source": [
    "## TargetDiff"
   ]
  },
  {
   "cell_type": "code",
   "execution_count": 133,
   "id": "bf6ec7b2-05be-4210-bc68-4c3c473eb32d",
   "metadata": {},
   "outputs": [
    {
     "name": "stdout",
     "output_type": "stream",
     "text": [
      "Num results: 9036\n",
      "[Vina Score] Avg: -5.47 | Std: 8.32\n",
      "[Vina Min]   Avg: -6.64 | Std: 4.94\n",
      "[Vina Dock]  Avg: -7.8018 | Std: 3.6194\n",
      "[QED]  Avg: 0.4798 | Std: 0.1990\n",
      "[SA]   Avg: 0.5846 | Std: 0.1285\n",
      "[Size] Avg: 24.2371 | Std: 9.0606\n",
      "[HF%]  Avg: 58.11% | Std: 30.33% \n",
      "[HF-QED]  Avg: 49.8408 | Std: 19.5664 \n",
      "[HF-SA]   Avg: 56.3709 | Std: 12.5134 \n",
      "[Success%] 98.99% \n"
     ]
    }
   ],
   "source": [
    "flat_p2m_docked = [r for pr in Globals.targetdiff_results for r in pr]\n",
    "print_results(flat_p2m_docked)\n",
    "compute_high_affinity(vina_ref, Globals.targetdiff_results)"
   ]
  },
  {
   "cell_type": "code",
   "execution_count": null,
   "id": "47c7b0db-9534-40c0-aaba-4b4d067a16da",
   "metadata": {},
   "outputs": [],
   "source": []
  },
  {
   "cell_type": "markdown",
   "id": "d4158b73-f050-410a-a2e8-6e495e2e6d7e",
   "metadata": {},
   "source": [
    "## LatentTargetDiff (ours)"
   ]
  },
  {
   "cell_type": "code",
   "execution_count": 134,
   "id": "c9011e14-0330-4c59-973c-d9ea904031cb",
   "metadata": {},
   "outputs": [
    {
     "name": "stdout",
     "output_type": "stream",
     "text": [
      "Num results: 28900\n",
      "[Vina Score] Avg: -5.59 | Std: 1.94\n",
      "[Vina Min]   Avg: -6.11 | Std: 1.61\n",
      "[Vina Dock]  Avg: -6.8736 | Std: 1.9979\n",
      "[QED]  Avg: 0.5386 | Std: 0.1724\n",
      "[SA]   Avg: 0.6339 | Std: 0.1316\n",
      "[Size] Avg: 21.8201 | Std: 7.4422\n",
      "[HF%]  Avg: 43.60% | Std: 34.42% \n",
      "[HF-QED]  Avg: 54.0804 | Std: 17.6129 \n",
      "[HF-SA]   Avg: 59.2851 | Std: 12.4930 \n",
      "[Success%] 95.00% \n"
     ]
    }
   ],
   "source": [
    "flat_ours_docked = [r for pr in Globals.our_results for r in pr] #NOTE: 289, not 28900 due to manual format fix\n",
    "print_results(flat_ours_docked)\n",
    "compute_high_affinity(vina_ref, Globals.our_results)"
   ]
  },
  {
   "cell_type": "markdown",
   "id": "6daa192e",
   "metadata": {
    "tags": []
   },
   "source": [
    "# Atom Distance"
   ]
  },
  {
   "cell_type": "code",
   "execution_count": 135,
   "id": "25889983",
   "metadata": {},
   "outputs": [],
   "source": [
    "def get_all_atom_distance(results):\n",
    "    atom_distance_list = []\n",
    "    for pocket in results:\n",
    "        for ligand in pocket:\n",
    "            mol = ligand['mol']\n",
    "            mol = Chem.RemoveAllHs(mol)\n",
    "            pos = mol.GetConformers()[0].GetPositions()\n",
    "            dist = sci_spatial.distance.pdist(pos, metric='euclidean')\n",
    "            atom_distance_list += dist.tolist()\n",
    "    return np.array(atom_distance_list)\n",
    "        \n",
    "Globals.reference_atom_dist = get_all_atom_distance(Globals.reference_results)\n",
    "Globals.our_atom_dist = get_all_atom_distance(Globals.our_results)\n",
    "Globals.ar_atom_dist = get_all_atom_distance(Globals.ar_results)\n",
    "Globals.targetdiff_atom_dist = get_all_atom_distance(Globals.targetdiff_results)\n",
    "Globals.pocket2mol_atom_dist = get_all_atom_distance(Globals.pocket2mol_results)"
   ]
  },
  {
   "cell_type": "code",
   "execution_count": 136,
   "id": "aa258849",
   "metadata": {},
   "outputs": [],
   "source": [
    "def get_all_c_c_distance(results):\n",
    "    c_c_distance_list = []\n",
    "    for pocket in results:\n",
    "        for ligand in pocket:\n",
    "            mol = ligand['mol']\n",
    "            mol = Chem.RemoveAllHs(mol)\n",
    "            for bond_type, dist in eval_bond_length.bond_distance_from_mol(mol):\n",
    "                if bond_type[:2] == (6, 6):\n",
    "                    c_c_distance_list.append(dist)\n",
    "    return np.array(c_c_distance_list)\n",
    "\n",
    "Globals.reference_c_c_dist = get_all_c_c_distance(Globals.reference_results)\n",
    "Globals.our_c_c_dist = get_all_c_c_distance(Globals.our_results)\n",
    "Globals.ar_c_c_dist = get_all_c_c_distance(Globals.ar_results)\n",
    "Globals.targetdiff_c_c_dist = get_all_c_c_distance(Globals.targetdiff_results)\n",
    "Globals.pocket2mol_c_c_dist = get_all_c_c_distance(Globals.pocket2mol_results)"
   ]
  },
  {
   "cell_type": "code",
   "execution_count": null,
   "id": "a7dd8340",
   "metadata": {},
   "outputs": [],
   "source": [
    "plt.figure(figsize=(15, 10))\n",
    "\n",
    "LW = 2\n",
    "LABEL_FONTSIZE = 18\n",
    "ALPHA = 0.75\n",
    "\n",
    "BINS = np.linspace(0, 12, 100)\n",
    "def _plot_other(plot_ylabel=False):\n",
    "    if plot_ylabel:\n",
    "        plt.ylabel('Density', fontsize=LABEL_FONTSIZE)\n",
    "    plt.xlabel('Distance of all atom pairs ($\\AA$)', fontsize=LABEL_FONTSIZE)\n",
    "    plt.ylim(0, 0.5)\n",
    "    plt.xlim(0, 12)\n",
    "    \n",
    "reference_profile = eval_bond_length.get_distribution(Globals.reference_atom_dist, bins=BINS)\n",
    "def _compute_jsd(atom_dist_list):\n",
    "    profile = eval_bond_length.get_distribution(atom_dist_list, bins=BINS)\n",
    "    return sci_spatial.distance.jensenshannon(reference_profile, profile)\n",
    "\n",
    "ax = plt.subplot(2,3,1)\n",
    "plt.hist(Globals.reference_atom_dist, bins=BINS, histtype='step', density=True, lw=LW, color='gray', alpha=ALPHA, label='reference')\n",
    "plt.hist(Globals.pocket2mol_atom_dist, bins=BINS, histtype='step', density=True, lw=LW, color='blue', alpha=ALPHA, label='Pocket2Mol')\n",
    "jsd = _compute_jsd(Globals.pocket2mol_atom_dist)\n",
    "ax.text(5, 0.4, f'Pocket2Mol JSD: {jsd:.3f}', fontsize=15, weight='bold')\n",
    "# plt.title(f'liGAN (JSD={jsd:.3f})')\n",
    "_plot_other(plot_ylabel=True)\n",
    "ax = plt.subplot(2,3,2)\n",
    "plt.hist(Globals.reference_atom_dist, bins=BINS, histtype='step', density=True, lw=LW, color='gray', alpha=ALPHA, label='reference')\n",
    "plt.hist(Globals.ar_atom_dist, bins=BINS, histtype='step', density=True, lw=LW, color='red', alpha=ALPHA, label='AR')\n",
    "# jsd = _compute_jsd(Globals.ar_atom_dist)\n",
    "plt.hist(Globals.targetdiff_atom_dist, bins=BINS, histtype='step', density=True, lw=LW, color='orange', alpha=ALPHA, label='targetdiff')\n",
    "ar_jsd = _compute_jsd(Globals.ar_atom_dist)\n",
    "p2m_jsd = _compute_jsd(Globals.targetdiff_atom_dist)\n",
    "ax.text(4.5, 0.4, f'AR\\ntargetdiff', fontsize=15, weight='bold')\n",
    "ax.text(8.5, 0.4, f'JSD: {ar_jsd:.3f}\\nJSD: {p2m_jsd:.3f}', fontsize=15, weight='bold')\n",
    "# plt.title(f'AR (JSD={jsd:.3f})')\n",
    "_plot_other()\n",
    "ax = plt.subplot(2,3,3)\n",
    "plt.hist(Globals.reference_atom_dist, bins=BINS, histtype='step', density=True, lw=LW, color='gray', alpha=ALPHA, label='reference')\n",
    "plt.hist(Globals.our_atom_dist, bins=BINS, histtype='step', density=True, lw=LW, color='green', alpha=ALPHA, label=MODEL_NAME)\n",
    "jsd = _compute_jsd(Globals.our_atom_dist)\n",
    "ax.text(5, 0.4, f'{MODEL_NAME} JSD:{jsd:.3f}', fontsize=15, weight='bold')\n",
    "# plt.title(f'{MODEL_NAME} (JSD={jsd:.3f})')\n",
    "_plot_other()\n",
    "\n",
    "BINS = np.linspace(0, 2, 100)\n",
    "\n",
    "def _select_proximal(arr):\n",
    "    arr = np.array()\n",
    "\n",
    "def _plot_other(plot_ylabel=False):\n",
    "    if plot_ylabel:\n",
    "        plt.ylabel('Density', fontsize=LABEL_FONTSIZE)\n",
    "    plt.xlabel('Distance of carbon carbon bond ($\\AA$)', fontsize=LABEL_FONTSIZE)\n",
    "    plt.ylim(0, 12)\n",
    "    plt.xlim(0, 2)\n",
    "    \n",
    "reference_profile = eval_bond_length.get_distribution(Globals.reference_c_c_dist, bins=BINS)\n",
    "def _compute_jsd(atom_dist_list):\n",
    "    profile = eval_bond_length.get_distribution(atom_dist_list, bins=BINS)\n",
    "    return sci_spatial.distance.jensenshannon(reference_profile, profile)\n",
    "\n",
    "ax = plt.subplot(2,3,4)\n",
    "plt.hist(Globals.reference_c_c_dist, bins=BINS, histtype='step', density=True, lw=LW, color='gray', alpha=ALPHA, label='reference')\n",
    "plt.hist(Globals.pocket2mol_c_c_dist, bins=BINS, histtype='step', density=True, lw=LW, color='blue', alpha=ALPHA, label='Pocket2Mol')\n",
    "jsd = _compute_jsd(Globals.pocket2mol_c_c_dist)\n",
    "ax.text(0.1, 10, f'Pocket2Mol JSD: {jsd:.3f}', fontsize=15, weight='bold')\n",
    "# plt.title(f'liGAN (JSD={jsd:.3f})')\n",
    "_plot_other(plot_ylabel=True)\n",
    "ax = plt.subplot(2,3,5)\n",
    "plt.hist(Globals.reference_c_c_dist, bins=BINS, histtype='step', density=True, lw=LW, color='gray', alpha=ALPHA, label='reference')\n",
    "plt.hist(Globals.ar_c_c_dist, bins=BINS, histtype='step', density=True, lw=LW, color='red', alpha=ALPHA, label='AR')\n",
    "plt.hist(Globals.targetdiff_c_c_dist, bins=BINS, histtype='step', density=True, lw=LW, color='orange', alpha=ALPHA, label='targetdiff')\n",
    "ar_jsd = _compute_jsd(Globals.ar_c_c_dist)\n",
    "p2m_jsd = _compute_jsd(Globals.targetdiff_c_c_dist)\n",
    "ax.text(0.1, 10, f'AR\\ntargetdiff', fontsize=15, weight='bold')\n",
    "ax.text(0.75, 10, f'JSD: {ar_jsd:.3f}\\nJSD: {p2m_jsd:.3f}', fontsize=15, weight='bold')\n",
    "# plt.title(f'AR (JSD={jsd:.3f})')\n",
    "_plot_other()\n",
    "ax = plt.subplot(2,3,6)\n",
    "plt.hist(Globals.reference_c_c_dist, bins=BINS, histtype='step', density=True, lw=LW, color='gray', alpha=ALPHA, label='reference')\n",
    "plt.hist(Globals.our_c_c_dist, bins=BINS, histtype='step', density=True, lw=LW, color='green', alpha=ALPHA, label=MODEL_NAME)\n",
    "jsd = _compute_jsd(Globals.our_c_c_dist)\n",
    "ax.text(0.1, 10, f'{MODEL_NAME} JSD: {jsd:.3f}', fontsize=15, weight='bold')\n",
    "# plt.title(f'{MODEL_NAME} (JSD={jsd:.3f})')\n",
    "_plot_other()\n",
    "\n",
    "plt.tight_layout()\n",
    "# plt.savefig('output_figures/distance_distribution.pdf')\n",
    "plt.show()"
   ]
  },
  {
   "cell_type": "markdown",
   "id": "e3355b21",
   "metadata": {
    "tags": []
   },
   "source": [
    "# Bond Distance"
   ]
  },
  {
   "cell_type": "code",
   "execution_count": 138,
   "id": "1f7dddbb",
   "metadata": {},
   "outputs": [],
   "source": [
    "def get_bond_length_profile(results):\n",
    "    bond_distances = []\n",
    "    for pocket in results:\n",
    "        for ligand in pocket:\n",
    "            mol = ligand['mol']\n",
    "            mol = Chem.RemoveAllHs(mol)\n",
    "            bond_distances += eval_bond_length.bond_distance_from_mol(mol)\n",
    "    return eval_bond_length.get_bond_length_profile(bond_distances)\n",
    "\n",
    "Globals.reference_bond_length_profile = get_bond_length_profile(Globals.reference_results)\n",
    "Globals.our_bond_length_profile = get_bond_length_profile(Globals.our_results)\n",
    "Globals.ar_bond_length_profile = get_bond_length_profile(Globals.ar_results)\n",
    "Globals.targetdiff_bond_length_profile = get_bond_length_profile(Globals.targetdiff_results)\n",
    "Globals.pocket2mol_bond_length_profile = get_bond_length_profile(Globals.pocket2mol_results)"
   ]
  },
  {
   "cell_type": "code",
   "execution_count": 139,
   "id": "532cd4e1",
   "metadata": {},
   "outputs": [
    {
     "data": {
      "text/plain": [
       "{'JSD_6-6|1': 0.3920146088040081,\n",
       " 'JSD_6-6|2': 0.48711226016744724,\n",
       " 'JSD_6-6|4': 0.27865514224485577,\n",
       " 'JSD_6-7|1': 0.40375947819254965,\n",
       " 'JSD_6-7|2': 0.5771002766247572,\n",
       " 'JSD_6-7|4': 0.29942823374115846,\n",
       " 'JSD_6-8|1': 0.4427172847311607,\n",
       " 'JSD_6-8|2': 0.43001493941424307,\n",
       " 'JSD_6-8|4': 0.8325546111576977}"
      ]
     },
     "execution_count": 139,
     "metadata": {},
     "output_type": "execute_result"
    }
   ],
   "source": [
    "REPORT_TYPE = (\n",
    "    (6,6,1),\n",
    "    (6,6,2),\n",
    "    (6,6,4),\n",
    "    (6,7,1),\n",
    "    (6,7,2),\n",
    "    (6,7,4),\n",
    "    (6,8,1),\n",
    "    (6,8,2),\n",
    "    (6,8,4),\n",
    ")\n",
    "\n",
    "def _bond_type_str(bond_type) -> str:\n",
    "    atom1, atom2, bond_category = bond_type\n",
    "    return f'{atom1}-{atom2}|{bond_category}'\n",
    "\n",
    "def eval_bond_length_profile(model_profile):\n",
    "    metrics = {}\n",
    "\n",
    "    for bond_type in REPORT_TYPE:\n",
    "        metrics[f'JSD_{_bond_type_str(bond_type)}'] = sci_spatial.distance.jensenshannon(Globals.reference_bond_length_profile[bond_type],model_profile[bond_type])\n",
    "    return metrics\n",
    "\n",
    "eval_bond_length_profile(Globals.our_bond_length_profile)"
   ]
  },
  {
   "cell_type": "code",
   "execution_count": 140,
   "id": "fc19b890",
   "metadata": {},
   "outputs": [
    {
     "data": {
      "text/plain": [
       "{'JSD_6-6|1': 0.6090847252592992,\n",
       " 'JSD_6-6|2': 0.6210207716132661,\n",
       " 'JSD_6-6|4': 0.4504618126310079,\n",
       " 'JSD_6-7|1': 0.4730538614136365,\n",
       " 'JSD_6-7|2': 0.6356224885267152,\n",
       " 'JSD_6-7|4': 0.5514678253305576,\n",
       " 'JSD_6-8|1': 0.49176438120726135,\n",
       " 'JSD_6-8|2': 0.5588741374756954,\n",
       " 'JSD_6-8|4': 0.810528953192532}"
      ]
     },
     "execution_count": 140,
     "metadata": {},
     "output_type": "execute_result"
    }
   ],
   "source": [
    "eval_bond_length_profile(Globals.ar_bond_length_profile)"
   ]
  },
  {
   "cell_type": "code",
   "execution_count": 141,
   "id": "aa76e593",
   "metadata": {},
   "outputs": [
    {
     "data": {
      "text/plain": [
       "{'JSD_6-6|1': 0.36884373598857034,\n",
       " 'JSD_6-6|2': 0.5047684134329029,\n",
       " 'JSD_6-6|4': 0.2633830585480587,\n",
       " 'JSD_6-7|1': 0.3631443132502597,\n",
       " 'JSD_6-7|2': 0.5504188286292794,\n",
       " 'JSD_6-7|4': 0.23528955393614812,\n",
       " 'JSD_6-8|1': 0.4209079543270927,\n",
       " 'JSD_6-8|2': 0.46103877946328925,\n",
       " 'JSD_6-8|4': 0.8044862460712345}"
      ]
     },
     "execution_count": 141,
     "metadata": {},
     "output_type": "execute_result"
    }
   ],
   "source": [
    "eval_bond_length_profile(Globals.targetdiff_bond_length_profile)"
   ]
  },
  {
   "cell_type": "code",
   "execution_count": 142,
   "id": "a3d21fee",
   "metadata": {},
   "outputs": [
    {
     "data": {
      "text/plain": [
       "{'JSD_6-6|1': 0.4959307399546982,\n",
       " 'JSD_6-6|2': 0.5614630763511905,\n",
       " 'JSD_6-6|4': 0.4158556788727053,\n",
       " 'JSD_6-7|1': 0.42529234081136563,\n",
       " 'JSD_6-7|2': 0.6285164082861112,\n",
       " 'JSD_6-7|4': 0.4873078388654103,\n",
       " 'JSD_6-8|1': 0.4540257178262056,\n",
       " 'JSD_6-8|2': 0.5160702401133311,\n",
       " 'JSD_6-8|4': 0.7828900804172967}"
      ]
     },
     "execution_count": 142,
     "metadata": {},
     "output_type": "execute_result"
    }
   ],
   "source": [
    "eval_bond_length_profile(Globals.pocket2mol_bond_length_profile)"
   ]
  },
  {
   "cell_type": "markdown",
   "id": "04e33a7a",
   "metadata": {},
   "source": [
    "# Rigid"
   ]
  },
  {
   "cell_type": "code",
   "execution_count": 143,
   "id": "d6793e41",
   "metadata": {},
   "outputs": [],
   "source": [
    "import networkx as nx\n",
    "from rdkit.Chem.rdchem import BondType\n",
    "from copy import deepcopy\n",
    "from collections import OrderedDict"
   ]
  },
  {
   "cell_type": "code",
   "execution_count": 144,
   "id": "a832a1d4",
   "metadata": {},
   "outputs": [],
   "source": [
    "class RotBondFragmentizer():\n",
    "    def __init__(self, only_single_bond=True):\n",
    "        self.type = 'RotBondFragmentizer'\n",
    "        self.only_single_bond = only_single_bond\n",
    "\n",
    "    # code adapt from Torsion Diffusion\n",
    "    def get_bonds(self, mol):\n",
    "        bonds = []\n",
    "        G = nx.Graph()\n",
    "        for i, atom in enumerate(mol.GetAtoms()):\n",
    "            G.add_node(i)\n",
    "        # nodes = set(G.nodes())\n",
    "        for bond in mol.GetBonds():\n",
    "            start, end = bond.GetBeginAtomIdx(), bond.GetEndAtomIdx()\n",
    "            G.add_edge(start, end)\n",
    "        for e in G.edges():\n",
    "            G2 = copy.deepcopy(G)\n",
    "            G2.remove_edge(*e)\n",
    "            if nx.is_connected(G2): continue\n",
    "            l = list(sorted(nx.connected_components(G2), key=len)[0])\n",
    "            if len(l) < 2: continue\n",
    "            # n0 = list(G2.neighbors(e[0]))\n",
    "            # n1 = list(G2.neighbors(e[1]))\n",
    "            if self.only_single_bond:\n",
    "                bond_type = mol.GetBondBetweenAtoms(e[0], e[1]).GetBondType()\n",
    "                if bond_type != BondType.SINGLE:\n",
    "                    continue\n",
    "            bonds.append((e[0], e[1]))\n",
    "        return bonds\n",
    "\n",
    "    def fragmentize(self, mol, dummyStart=1, bond_list=None):\n",
    "        if bond_list is None:\n",
    "            # get bonds need to be break\n",
    "            bonds = self.get_bonds(mol)\n",
    "        else:\n",
    "            bonds = bond_list\n",
    "        # whether the molecule can really be break\n",
    "        if len(bonds) != 0:\n",
    "            bond_ids = [mol.GetBondBetweenAtoms(x, y).GetIdx() for x, y in bonds]\n",
    "            bond_ids = list(set(bond_ids))\n",
    "            # break the bonds & set the dummy labels for the bonds\n",
    "            dummyLabels = [(i + dummyStart, i + dummyStart) for i in range(len(bond_ids))]\n",
    "            break_mol = Chem.FragmentOnBonds(mol, bond_ids, dummyLabels=dummyLabels)\n",
    "            dummyEnd = dummyStart + len(dummyLabels) - 1\n",
    "        else:\n",
    "            break_mol = mol\n",
    "            bond_ids = []\n",
    "            dummyEnd = dummyStart - 1\n",
    "\n",
    "        return break_mol, bond_ids, dummyEnd\n",
    "    \n",
    "\n",
    "def get_clean_mol(mol):\n",
    "    rdmol = deepcopy(mol)\n",
    "    for at in rdmol.GetAtoms():\n",
    "        at.SetAtomMapNum(0)\n",
    "        at.SetIsotope(0)\n",
    "    Chem.RemoveStereochemistry(rdmol)\n",
    "    return rdmol\n",
    "\n",
    "\n",
    "def replace_atom_in_mol(ori_mol, src_atom, dst_atom):\n",
    "    mol = deepcopy(ori_mol)\n",
    "    m_mol = Chem.RWMol(mol)\n",
    "    for atom in m_mol.GetAtoms():\n",
    "        if atom.GetAtomicNum() == src_atom:\n",
    "            atom_idx = atom.GetIdx()\n",
    "            m_mol.ReplaceAtom(atom_idx, Chem.Atom(dst_atom))\n",
    "    return m_mol.GetMol()\n",
    "\n",
    "\n",
    "def ff_optimize(ori_mol, addHs=False, enable_torsion=False):\n",
    "    mol = deepcopy(ori_mol)\n",
    "    Chem.GetSymmSSSR(mol)\n",
    "    if addHs:\n",
    "        mol = Chem.AddHs(mol, addCoords=True)\n",
    "    mp = AllChem.MMFFGetMoleculeProperties(mol, mmffVariant='MMFF94s')\n",
    "    if mp is None:\n",
    "        return (None, )\n",
    "\n",
    "    # turn off angle-related terms\n",
    "    mp.SetMMFFOopTerm(enable_torsion)\n",
    "    mp.SetMMFFAngleTerm(True)\n",
    "    mp.SetMMFFTorsionTerm(enable_torsion)\n",
    "\n",
    "    # optimize unrelated to angles\n",
    "    mp.SetMMFFStretchBendTerm(True)\n",
    "    mp.SetMMFFBondTerm(True)\n",
    "    mp.SetMMFFVdWTerm(True)\n",
    "    mp.SetMMFFEleTerm(True)\n",
    "    \n",
    "#     try:\n",
    "    ff = AllChem.MMFFGetMoleculeForceField(mol, mp)\n",
    "    energy_before_ff = ff.CalcEnergy()\n",
    "    ff.Minimize()\n",
    "    energy_after_ff = ff.CalcEnergy()\n",
    "    # print(f'Energy: {energy_before_ff} --> {energy_after_ff}')\n",
    "    energy_change = energy_before_ff - energy_after_ff\n",
    "    Chem.SanitizeMol(ori_mol)\n",
    "    Chem.SanitizeMol(mol)\n",
    "    rmsd = rdMolAlign.GetBestRMS(ori_mol, mol)\n",
    "#     except:\n",
    "#         return (None, )\n",
    "    return energy_change, rmsd, mol\n",
    "\n",
    "\n",
    "def frag_analysis_from_mol_list(input_mol_list):\n",
    "    all_frags_dict = {}\n",
    "    sg = RotBondFragmentizer()\n",
    "    for mol in tqdm(input_mol_list):\n",
    "        frags, _, _ = sg.fragmentize(mol)\n",
    "        frags = [get_clean_mol(f) for f in Chem.GetMolFrags(frags, asMols=True)]\n",
    "\n",
    "        for frag in frags:\n",
    "            num_atoms = frag.GetNumAtoms() - Chem.MolToSmiles(frag).count('*')\n",
    "            if 2 < num_atoms < 10:\n",
    "                if num_atoms not in all_frags_dict:\n",
    "                    all_frags_dict[num_atoms] = []\n",
    "\n",
    "                mol = deepcopy(frag)\n",
    "                mol_hs = replace_atom_in_mol(mol, src_atom=0, dst_atom=1)\n",
    "                mol_hs = Chem.RemoveAllHs(mol_hs)\n",
    "                all_frags_dict[num_atoms].append(mol_hs)\n",
    "    \n",
    "    all_frags_dict = OrderedDict(sorted(all_frags_dict.items()))\n",
    "    all_rmsd_by_frag_size = {}\n",
    "    for k, mol_list in all_frags_dict.items():\n",
    "        n_fail = 0\n",
    "        all_energy_diff, all_rmsd = [], []\n",
    "        for mol in mol_list:\n",
    "            ff_results = ff_optimize(mol, addHs=True, enable_torsion=False)\n",
    "            if ff_results[0] is None:\n",
    "                n_fail += 1\n",
    "                continue\n",
    "            energy_diff, rmsd, _, = ff_results\n",
    "            all_energy_diff.append(energy_diff)\n",
    "            all_rmsd.append(rmsd)\n",
    "        print(f'Num of atoms: {k} ({n_fail} of {len(mol_list)} fail):   '\n",
    "              f'\\tEnergy {np.mean(all_energy_diff):.2f} / {np.std(all_energy_diff):.2f}' \n",
    "              f'\\tRMSD   {np.mean(all_rmsd):.2f} / {np.std(all_rmsd):.2f}'\n",
    "             )\n",
    "        all_rmsd_by_frag_size[k] = all_rmsd\n",
    "    return all_frags_dict, all_rmsd_by_frag_size"
   ]
  },
  {
   "cell_type": "code",
   "execution_count": 145,
   "id": "2ec19a6e",
   "metadata": {},
   "outputs": [],
   "source": [
    "ours_mols = [r['mol'] for pr in Globals.our_results for r in pr]\n",
    "ar_mols = [r['mol'] for pr in Globals.ar_results for r in pr]\n",
    "targetdiff_mols = [r['mol'] for pr in Globals.targetdiff_results for r in pr]\n",
    "pocket2mol_mols = [r['mol'] for pr in Globals.pocket2mol_results for r in pr]"
   ]
  },
  {
   "cell_type": "code",
   "execution_count": 152,
   "id": "fc50c262",
   "metadata": {},
   "outputs": [
    {
     "name": "stderr",
     "output_type": "stream",
     "text": [
      "100%|██████████| 28900/28900 [03:48<00:00, 126.60it/s]\n"
     ]
    },
    {
     "name": "stdout",
     "output_type": "stream",
     "text": [
      "Num of atoms: 3 (0 of 22800 fail):   \tEnergy 3669.86 / 54939.19\tRMSD   0.06 / 0.06\n",
      "Num of atoms: 4 (0 of 5600 fail):   \tEnergy 28.69 / 16.20\tRMSD   0.09 / 0.03\n",
      "Num of atoms: 5 (0 of 3700 fail):   \tEnergy 20.58 / 11.93\tRMSD   0.12 / 0.04\n",
      "Num of atoms: 6 (0 of 11200 fail):   \tEnergy 19.96 / 26.33\tRMSD   0.10 / 0.08\n",
      "Num of atoms: 7 (0 of 6200 fail):   \tEnergy 26.83 / 21.30\tRMSD   0.21 / 0.10\n",
      "Num of atoms: 8 (0 of 3300 fail):   \tEnergy 199.22 / 650.21\tRMSD   0.31 / 0.12\n",
      "Num of atoms: 9 (0 of 2600 fail):   \tEnergy 56.25 / 39.44\tRMSD   0.33 / 0.10\n"
     ]
    },
    {
     "name": "stderr",
     "output_type": "stream",
     "text": [
      "100%|██████████| 9295/9295 [00:56<00:00, 163.81it/s]\n"
     ]
    },
    {
     "name": "stdout",
     "output_type": "stream",
     "text": [
      "Num of atoms: 3 (0 of 4874 fail):   \tEnergy 34.78 / 206.94\tRMSD   0.09 / 0.07\n",
      "Num of atoms: 4 (0 of 1769 fail):   \tEnergy 128.49 / 1630.47\tRMSD   0.18 / 0.09\n",
      "Num of atoms: 5 (1 of 828 fail):   \tEnergy 41.54 / 48.83\tRMSD   0.15 / 0.08\n",
      "Num of atoms: 6 (0 of 2421 fail):   \tEnergy 46.71 / 62.16\tRMSD   0.20 / 0.09\n",
      "Num of atoms: 7 (0 of 2039 fail):   \tEnergy 79.66 / 81.03\tRMSD   0.28 / 0.12\n",
      "Num of atoms: 8 (0 of 1296 fail):   \tEnergy 115.36 / 459.94\tRMSD   0.35 / 0.14\n",
      "Num of atoms: 9 (0 of 852 fail):   \tEnergy 169.01 / 216.14\tRMSD   0.39 / 0.17\n"
     ]
    },
    {
     "name": "stderr",
     "output_type": "stream",
     "text": [
      "100%|██████████| 9036/9036 [01:23<00:00, 108.42it/s]\n"
     ]
    },
    {
     "name": "stdout",
     "output_type": "stream",
     "text": [
      "Num of atoms: 3 (0 of 6413 fail):   \tEnergy 38.45 / 1128.39\tRMSD   0.06 / 0.05\n",
      "Num of atoms: 4 (2 of 1331 fail):   \tEnergy 77.99 / 1562.83\tRMSD   0.10 / 0.07\n",
      "Num of atoms: 5 (12 of 894 fail):   \tEnergy 22.38 / 30.03\tRMSD   0.12 / 0.06\n",
      "Num of atoms: 6 (0 of 2871 fail):   \tEnergy 142.97 / 3915.75\tRMSD   0.12 / 0.09\n",
      "Num of atoms: 7 (0 of 2360 fail):   \tEnergy 3700.58 / 146116.03\tRMSD   0.22 / 0.11\n",
      "Num of atoms: 8 (1 of 1288 fail):   \tEnergy 8560.93 / 195787.71\tRMSD   0.32 / 0.14\n",
      "Num of atoms: 9 (0 of 903 fail):   \tEnergy 4447.17 / 115699.87\tRMSD   0.38 / 0.16\n"
     ]
    },
    {
     "name": "stderr",
     "output_type": "stream",
     "text": [
      "100%|██████████| 9831/9831 [00:56<00:00, 173.15it/s]\n"
     ]
    },
    {
     "name": "stdout",
     "output_type": "stream",
     "text": [
      "Num of atoms: 3 (0 of 3626 fail):   \tEnergy 15.32 / 14.38\tRMSD   0.07 / 0.03\n",
      "Num of atoms: 4 (0 of 328 fail):   \tEnergy 38.03 / 30.27\tRMSD   0.11 / 0.07\n",
      "Num of atoms: 5 (0 of 762 fail):   \tEnergy 40.84 / 30.41\tRMSD   0.13 / 0.06\n",
      "Num of atoms: 6 (0 of 2138 fail):   \tEnergy 37.52 / 37.86\tRMSD   0.12 / 0.06\n",
      "Num of atoms: 7 (0 of 1673 fail):   \tEnergy 41.21 / 29.14\tRMSD   0.20 / 0.07\n",
      "Num of atoms: 8 (0 of 882 fail):   \tEnergy 51.09 / 34.64\tRMSD   0.26 / 0.10\n",
      "Num of atoms: 9 (0 of 708 fail):   \tEnergy 71.18 / 44.82\tRMSD   0.31 / 0.12\n"
     ]
    }
   ],
   "source": [
    "_, ours_rigid_rmsd = frag_analysis_from_mol_list(ours_mols)\n",
    "_, ar_rigid_rmsd = frag_analysis_from_mol_list(ar_mols)\n",
    "_, targetdiff_rigid_rmsd = frag_analysis_from_mol_list(targetdiff_mols)\n",
    "_, pocket2mol_rigid_rmsd = frag_analysis_from_mol_list(pocket2mol_mols)"
   ]
  },
  {
   "cell_type": "code",
   "execution_count": 154,
   "id": "aedcea06",
   "metadata": {},
   "outputs": [
    {
     "data": {
      "image/png": "[encoded data removed]",
      "text/plain": [
       "<Figure size 1200x800 with 1 Axes>"
      ]
     },
     "metadata": {},
     "output_type": "display_data"
    }
   ],
   "source": [
    "def construct_df(rigid_dict):\n",
    "    df = []\n",
    "    for k, all_v in rigid_dict.items():\n",
    "        for v in all_v:\n",
    "            df.append({'f_size': k, 'rmsd': v})\n",
    "    return pd.DataFrame(df)\n",
    "\n",
    "# sns.set(style=\"darkgrid\")\n",
    "sns.set_style(\"white\")\n",
    "sns.set_palette(\"muted\")\n",
    "\n",
    "tmp_1 = construct_df(ours_rigid_rmsd)\n",
    "tmp_1['model'] = MODEL_NAME\n",
    "tmp_2 = construct_df(ar_rigid_rmsd)\n",
    "tmp_2['model'] = 'AR'\n",
    "tmp_3 = construct_df(targetdiff_rigid_rmsd)\n",
    "tmp_3['model'] = 'TargetDiff'\n",
    "tmp_4 = construct_df(pocket2mol_rigid_rmsd)\n",
    "tmp_4['model'] = 'Pocket2Mol'\n",
    "viz_df = pd.concat([tmp_1, tmp_2, tmp_3, tmp_4]).reset_index()\n",
    "viz_df = viz_df.query('3<=f_size<=9')\n",
    "\n",
    "LABEL_FONTSIZE = 24\n",
    "TICK_FONTSIZE = 16\n",
    "LEGEND_FONTSIZE = 20\n",
    "plt.figure(figsize=(12, 8))\n",
    "sns.boxplot(x='f_size', y='rmsd', hue='model', data=viz_df, hue_order=('Pocket2Mol', 'AR', 'TargetDiff', MODEL_NAME), showfliers = False)\n",
    "plt.xlabel('Fragment Size', fontsize=LABEL_FONTSIZE)\n",
    "plt.ylabel('RMSD ($\\AA{}$)', fontsize=LABEL_FONTSIZE)\n",
    "plt.xticks(fontsize=TICK_FONTSIZE)\n",
    "plt.yticks(fontsize=TICK_FONTSIZE)\n",
    "plt.legend(frameon=False, fontsize=LEGEND_FONTSIZE)\n",
    "# plt.savefig('output_figures/rigid_rmsd.pdf')\n",
    "plt.show()"
   ]
  },
  {
   "cell_type": "markdown",
   "id": "6a8ea35b",
   "metadata": {
    "tags": []
   },
   "source": [
    "# Vina Score"
   ]
  },
  {
   "cell_type": "code",
   "execution_count": null,
   "id": "35e0724d-a365-4667-a24e-f652f26a3c80",
   "metadata": {},
   "outputs": [],
   "source": [
    "our_vina = np.array([np.std([v['vina']['dock'][0]['affinity'] for v in pocket]) for pocket in Globals.our_results])\n",
    "ar_vina = np.array([np.std([v['vina']['dock'][0]['affinity'] for v in pocket]) if len(pocket) > 0 else 0. for pocket in Globals.ar_results])\n",
    "targetdiff_vina = np.array([np.std([v['vina']['dock'][0]['affinity'] for v in pocket]) for pocket in Globals.targetdiff_results])"
   ]
  },
  {
   "cell_type": "code",
   "execution_count": null,
   "id": "2f787531",
   "metadata": {},
   "outputs": [],
   "source": [
    "all_vina = np.stack([our_vina, ar_vina, targetdiff_vina], axis=0)\n",
    "best_vina_idx = np.argmin(all_vina, axis=0)"
   ]
  },
  {
   "cell_type": "code",
   "execution_count": null,
   "id": "77844cb1",
   "metadata": {},
   "outputs": [],
   "source": [
    "plt.figure(figsize=(25, 6), dpi=100)\n",
    "\n",
    "ax = plt.subplot(1, 1, 1)\n",
    "ax.set_prop_cycle('color', plt.cm.Set1.colors)\n",
    "n_data = len(our_vina)\n",
    "fig1_idx = np.argsort(our_vina)\n",
    "ALPHA = 0.75\n",
    "POINT_SIZE = 128\n",
    "plt.scatter(np.arange(n_data), ar_vina[fig1_idx], label=f'AR (lowest in {np.mean(best_vina_idx==1)*100:.0f}%)', alpha=ALPHA, s=POINT_SIZE * 0.75)\n",
    "plt.scatter(np.arange(n_data), targetdiff_vina[fig1_idx], label=f'targetdiff (lowest in {np.mean(best_vina_idx==2)*100:.0f}%)', alpha=ALPHA, s=POINT_SIZE * 0.75)\n",
    "plt.scatter(np.arange(n_data), our_vina[fig1_idx], label=f'{MODEL_NAME} (lowest in {np.mean(best_vina_idx==0)*100:.0f}%)', alpha=ALPHA, s=POINT_SIZE)\n",
    "\n",
    "# plt.xticks([])\n",
    "plt.yticks(fontsize=16)\n",
    "for i in range(n_data):\n",
    "    plt.axvline(i, c='0.1', lw=0.2)\n",
    "plt.xlim(-1, 100)\n",
    "plt.ylim(-13, -1.5)\n",
    "# plt.yticks([-10, -8, -6, -4, -2], [-10, -8, -6, -4, '$\\geq$-2'], fontsize=25)\n",
    "plt.yticks([-12, -10, -8, -6, -4, -2], [-12, -10, -8, -6, -4, -2], fontsize=25)\n",
    "plt.ylabel('std Vina Energy', fontsize=30)\n",
    "plt.legend(fontsize=25, loc='lower center', ncol=4, bbox_to_anchor=(0.5, -0.3), frameon=False)\n",
    "plt.xticks(np.arange(0, 100, 10), [f'target {v}' for v in np.arange(0, 100, 10)], fontsize=25)\n",
    "\n",
    "plt.tight_layout()\n",
    "# plt.savefig('output_figures/binding.png')\n",
    "plt.show()\n",
    "\n",
    "#NOTE: this graph is also skewed, as I did not sample on all 100 targets"
   ]
  },
  {
   "cell_type": "code",
   "execution_count": null,
   "id": "6a548536-dacc-4ed8-b027-7a8bf77d45a6",
   "metadata": {},
   "outputs": [],
   "source": []
  }
 ],
 "metadata": {
  "kernelspec": {
   "display_name": "Python (targetdiff2)",
   "language": "python",
   "name": "targetdiff2"
  },
  "language_info": {
   "codemirror_mode": {
    "name": "ipython",
    "version": 3
   },
   "file_extension": ".py",
   "mimetype": "text/x-python",
   "name": "python",
   "nbconvert_exporter": "python",
   "pygments_lexer": "ipython3",
   "version": "3.8.16"
  }
 },
 "nbformat": 4,
 "nbformat_minor": 5
}
